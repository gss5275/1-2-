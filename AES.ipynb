{
 "cells": [
  {
   "cell_type": "code",
   "execution_count": 11,
   "metadata": {},
   "outputs": [
    {
     "ename": "ModuleNotFoundError",
     "evalue": "No module named 'crypto.Cipher'",
     "output_type": "error",
     "traceback": [
      "\u001b[1;31m---------------------------------------------------------------------------\u001b[0m",
      "\u001b[1;31mModuleNotFoundError\u001b[0m                       Traceback (most recent call last)",
      "\u001b[1;32m<ipython-input-11-77632e8bd5d2>\u001b[0m in \u001b[0;36m<module>\u001b[1;34m\u001b[0m\n\u001b[0;32m      1\u001b[0m \u001b[1;31m#%%timeit -n 1 -r 10\u001b[0m\u001b[1;33m\u001b[0m\u001b[1;33m\u001b[0m\u001b[1;33m\u001b[0m\u001b[0m\n\u001b[0;32m      2\u001b[0m \u001b[1;31m# -*- coding: utf-8 -*-\u001b[0m\u001b[1;33m\u001b[0m\u001b[1;33m\u001b[0m\u001b[1;33m\u001b[0m\u001b[0m\n\u001b[1;32m----> 3\u001b[1;33m \u001b[1;32mfrom\u001b[0m \u001b[0mcrypto\u001b[0m\u001b[1;33m.\u001b[0m\u001b[0mCipher\u001b[0m \u001b[1;32mimport\u001b[0m \u001b[0mAES\u001b[0m\u001b[1;33m\u001b[0m\u001b[1;33m\u001b[0m\u001b[0m\n\u001b[0m\u001b[0;32m      4\u001b[0m \u001b[1;33m\u001b[0m\u001b[0m\n\u001b[0;32m      5\u001b[0m \u001b[1;33m\u001b[0m\u001b[0m\n",
      "\u001b[1;31mModuleNotFoundError\u001b[0m: No module named 'crypto.Cipher'"
     ]
    }
   ],
   "source": [
    "#%%timeit -n 1 -r 10\n",
    "# -*- coding: utf-8 -*-\n",
    "from crypto.Cipher import AES\n",
    "\n",
    "\n",
    "\n",
    "BLOCK_SIZE=16\n",
    "\n",
    "class AESCryptoCBC():\n",
    "    def __init__(self, key):\n",
    "        #Initial vector를 0으로 초기화하여 16바이트 할당함\n",
    "        iv = chr(0) * 16\n",
    "        # aes cbc 생성\n",
    "        self.crypto = AES.new(key, AES.MODE_CBC, iv)\n",
    "\n",
    "    def encrypt(self, data):\n",
    "        #암호화 message는 16의 배수여야 한다.\n",
    "        enc = self.crypto.encrypt(data)\n",
    "        return enc\n",
    "\n",
    "    def decrypt(self, enc):\n",
    "        #복호화 enc는 16의 배수여야 한다.\n",
    "        dec = self.crypto.decrypt(enc)\n",
    "        return dec\n",
    "    \n",
    "    \n",
    "    \n",
    "#키 32바이트 = aes 256\n",
    "key = 16\n",
    "\n",
    "#원본 데이터\n",
    "\n",
    "import cv2\n",
    "\n",
    "img = cv2.imread(r'./image/image.png')\n",
    "img = cv2.cvtColor(img, cv2.COLOR_BGR2GRAY)\n",
    "\n",
    "\n",
    "for j in range(720):\n",
    "    data = [0]*720\n",
    "\n",
    "    for i in range(720) :\n",
    "        data[i] = img[j, i]\n",
    "\n",
    "\n",
    "\n",
    "    #키 생성\n",
    "    aes = AESCryptoCBC(bytes(key))\n",
    "    #이미지 암호화\n",
    "\n",
    "    enc = aes.encrypt(bytes(data))\n",
    "\n",
    "\n",
    "    for i in range(720) :\n",
    "        img[j, i] = list(enc)[i]\n",
    "            \n",
    "            \n",
    "#cv2.imshow('encrypt', img)\n",
    "#cv2.imwrite('AES.jpg', img)"
   ]
  },
  {
   "cell_type": "code",
   "execution_count": null,
   "metadata": {},
   "outputs": [],
   "source": []
  }
 ],
 "metadata": {
  "kernelspec": {
   "display_name": "Python 3",
   "language": "python",
   "name": "python3"
  },
  "language_info": {
   "codemirror_mode": {
    "name": "ipython",
    "version": 3
   },
   "file_extension": ".py",
   "mimetype": "text/x-python",
   "name": "python",
   "nbconvert_exporter": "python",
   "pygments_lexer": "ipython3",
   "version": "3.8.3"
  }
 },
 "nbformat": 4,
 "nbformat_minor": 4
}

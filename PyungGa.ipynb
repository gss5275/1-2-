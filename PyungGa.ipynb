{
 "cells": [
  {
   "cell_type": "code",
   "execution_count": 1,
   "metadata": {},
   "outputs": [
    {
     "name": "stderr",
     "output_type": "stream",
     "text": [
      "<ipython-input-1-06ee875cbaf7>:18: RuntimeWarning: overflow encountered in ubyte_scalars\n",
      "  dic[abs(img1[j, i]-img2[j, i])] += 1\n"
     ]
    },
    {
     "name": "stdout",
     "output_type": "stream",
     "text": [
      "0.05179783950617284\n"
     ]
    }
   ],
   "source": [
    "#평가함수 만들기\n",
    "import cv2\n",
    "\n",
    "#이미지 불러오기\n",
    "img1 = cv2.imread(r'.\\image\\jennie.png')\n",
    "img1 = cv2.cvtColor(img1, cv2.COLOR_BGR2GRAY)\n",
    "img2 = cv2.imread(r'enc.png')\n",
    "img2 = cv2.cvtColor(img2, cv2.COLOR_BGR2GRAY)\n",
    "\n",
    "#빈도 딕셔너리 초기화\n",
    "dic = {}\n",
    "for i in range(256):\n",
    "    dic[i] = 0\n",
    "\n",
    "#값 카운트\n",
    "for i in range(720):\n",
    "    for j in range(720):\n",
    "        dic[abs(img1[j, i]-img2[j, i])] += 1\n",
    "\n",
    "\n",
    "#M_ideal값\n",
    "M = 720 * 720 / 256\n",
    "\n",
    "\n",
    "#척도 측정\n",
    "result = 0\n",
    "for i in range(256):\n",
    "    result += abs(dic[i]-M)\n",
    "\n",
    "print(result/(720*720))\n"
   ]
  },
  {
   "cell_type": "code",
   "execution_count": 16,
   "metadata": {},
   "outputs": [
    {
     "data": {
      "image/png": "[encoded data removed]",
      "text/plain": [
       "<Figure size 288x72 with 1 Axes>"
      ]
     },
     "metadata": {
      "needs_background": "light"
     },
     "output_type": "display_data"
    }
   ],
   "source": [
    "#히스토 그램\n",
    "#평가함수 만들기\n",
    "import cv2\n",
    "\n",
    "#이미지 불러오기\n",
    "img = cv2.imread(r'./image/jennie.png')#원본\n",
    "img = cv2.cvtColor(img, cv2.COLOR_BGR2GRAY)\n",
    "imgs = cv2.imread(r'enc.jpg')#셔플링\n",
    "imgs = cv2.cvtColor(imgs, cv2.COLOR_BGR2GRAY)\n",
    "imgse = cv2.imread(r'enc.png')#셔플링+xor\n",
    "imgse = cv2.cvtColor(imgse, cv2.COLOR_BGR2GRAY)\n",
    "imga = cv2.imread(r'./image/AES.jpg')#aes\n",
    "imga = cv2.cvtColor(imga, cv2.COLOR_BGR2GRAY)\n",
    "imgo = cv2.imread(r'ori_enc.jpg')#선행연구\n",
    "imgo = cv2.cvtColor(imgo, cv2.COLOR_BGR2GRAY)\n",
    "\n",
    "\n",
    "#픽셀값 리스트\n",
    "def ml(img):\n",
    "    result = []\n",
    "    for j in range(720):\n",
    "        for i in range(720):\n",
    "            result.append(img[j, i])\n",
    "    return result\n",
    "\n",
    "\n",
    "\n",
    "        \n",
    "#그래프 출력\n",
    "import matplotlib.pyplot as plt\n",
    "plt.figure(figsize=(4,1))\n",
    "#plt.hist(ml(img), bins=255, color='red')\n",
    "#plt.hist(ml(imgo), bins=255, color='orange')\n",
    "#plt.hist(ml(imgs), bins=255, color='green')\n",
    "#plt.hist(ml(imgse), bins=255, color='black')\n",
    "plt.hist(ml(imga), bins=255)\n",
    "plt.show()\n",
    "\n",
    "cv2.waitKey(0)\n",
    "cv2.destroyAllWindows()\n"
   ]
  },
  {
   "cell_type": "code",
   "execution_count": null,
   "metadata": {},
   "outputs": [],
   "source": []
  }
 ],
 "metadata": {
  "kernelspec": {
   "display_name": "Python 3",
   "language": "python",
   "name": "python3"
  },
  "language_info": {
   "codemirror_mode": {
    "name": "ipython",
    "version": 3
   },
   "file_extension": ".py",
   "mimetype": "text/x-python",
   "name": "python",
   "nbconvert_exporter": "python",
   "pygments_lexer": "ipython3",
   "version": "3.8.3"
  }
 },
 "nbformat": 4,
 "nbformat_minor": 4
}
